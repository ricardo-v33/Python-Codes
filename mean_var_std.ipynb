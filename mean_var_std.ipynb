{
 "cells": [
  {
   "cell_type": "code",
   "execution_count": 121,
   "id": "2afe6441-46ee-41ef-9645-a116c97403f4",
   "metadata": {},
   "outputs": [],
   "source": [
    "import numpy as np"
   ]
  },
  {
   "cell_type": "code",
   "execution_count": 123,
   "id": "58f5f80b-4b5d-447b-a0b2-0cf70c9a3503",
   "metadata": {},
   "outputs": [],
   "source": [
    "def calculate(user_input):\n",
    "    user_string = user_input.split(\", \")\n",
    "    list = [float(string) for string in user_string]\n",
    "    if len(list) != 9:\n",
    "        print(\"Error: List must contain nine numbers.\")\n",
    "    else:\n",
    "        matrix = np.array(list).reshape(3, 3)\n",
    "        print(\n",
    "f\"\"\"\n",
    "Mean: [{np.mean(matrix, axis=0)}, {np.mean(matrix, axis=1)}, {np.mean(matrix)}],\n",
    "Variance: [{np.var(matrix, axis=0)}, {np.var(matrix, axis=1)}, {np.var(matrix)}],\n",
    "Standard Deviation: [{np.std(matrix, axis=0)}, {np.std(matrix, axis=1)}, {np.std(matrix)}],\n",
    "Max: [{np.max(matrix, axis=0)}, {np.max(matrix, axis=1)}, {np.max(matrix)}],\n",
    "Min: [{np.min(matrix, axis=0)}, {np.min(matrix, axis=1)}, {np.min(matrix)}],\n",
    "Sum: [{np.sum(matrix, axis=0)}, {np.sum(matrix, axis=1)}, {np.sum(matrix)}]\n",
    "\"\"\")\n",
    "    return"
   ]
  },
  {
   "cell_type": "code",
   "execution_count": 117,
   "id": "66ccf71a-e372-458f-aa14-1823182cf443",
   "metadata": {},
   "outputs": [
    {
     "name": "stdin",
     "output_type": "stream",
     "text": [
      "Please enter the 9 numbers of your list (format: 0, 1, 2, 3, 4, 5, 6, 7, 8):  0, 1, 2, 3, 4, 5, 6, 7, 8\n"
     ]
    }
   ],
   "source": [
    "user_input = input(\"Please enter the 9 numbers of your list (format: 0, 1, 2, 3, 4, 5, 6, 7, 8): \")"
   ]
  },
  {
   "cell_type": "code",
   "execution_count": 125,
   "id": "7a67ecf7-0281-4600-9c06-2eda53725938",
   "metadata": {},
   "outputs": [
    {
     "name": "stdout",
     "output_type": "stream",
     "text": [
      "\n",
      "Mean: [[3. 4. 5.], [1. 4. 7.], 4.0],\n",
      "Variance: [[6. 6. 6.], [0.66666667 0.66666667 0.66666667], 6.666666666666667],\n",
      "Standard Deviation: [[2.44948974 2.44948974 2.44948974], [0.81649658 0.81649658 0.81649658], 2.581988897471611],\n",
      "Max: [[6. 7. 8.], [2. 5. 8.], 8.0],\n",
      "Min: [[0. 1. 2.], [0. 3. 6.], 0.0],\n",
      "Sum: [[ 9. 12. 15.], [ 3. 12. 21.], 36.0]\n",
      "\n"
     ]
    }
   ],
   "source": [
    "calculate(user_input)"
   ]
  }
 ],
 "metadata": {
  "kernelspec": {
   "display_name": "Python [conda env:base] *",
   "language": "python",
   "name": "conda-base-py"
  },
  "language_info": {
   "codemirror_mode": {
    "name": "ipython",
    "version": 3
   },
   "file_extension": ".py",
   "mimetype": "text/x-python",
   "name": "python",
   "nbconvert_exporter": "python",
   "pygments_lexer": "ipython3",
   "version": "3.12.7"
  }
 },
 "nbformat": 4,
 "nbformat_minor": 5
}
